{
 "cells": [
  {
   "cell_type": "code",
   "execution_count": 11,
   "id": "e0645f0a-73af-43b7-8785-bdd0d8a1cc55",
   "metadata": {},
   "outputs": [
    {
     "data": {
      "text/plain": [
       "[1e+18, 1e+18, 1e+18]"
      ]
     },
     "execution_count": 11,
     "metadata": {},
     "output_type": "execute_result"
    }
   ],
   "source": [
    "N_COINS = 3\n",
    "\n",
    "LENDING_PRECISION = 10 ** 18\n",
    "# 1, 1e12, 1e12\n",
    "PRECISION_MUL = [1, 1000000000000, 1000000000000]\n",
    "# 1e18, 1e30, 1e30\n",
    "RATES = [1000000000000000000, 1000000000000000000000000000000, 1000000000000000000000000000000]\n",
    "\n",
    "# DAI, USDC, USDT\n",
    "balances = [1e18, 1e6, 1e6]\n",
    "\n",
    "# Normalizes coin balances to 1e18\n",
    "def xp():\n",
    "    result = [r for r in RATES]\n",
    "    for i in range(N_COINS):\n",
    "        result[i] = result[i] * balances[i] / LENDING_PRECISION\n",
    "    return result\n",
    "\n",
    "xp()"
   ]
  },
  {
   "cell_type": "code",
   "execution_count": null,
   "id": "b316a96b-8187-4d63-a885-3d65f36d46ac",
   "metadata": {},
   "outputs": [],
   "source": []
  }
 ],
 "metadata": {
  "kernelspec": {
   "display_name": "Python 3 (ipykernel)",
   "language": "python",
   "name": "python3"
  },
  "language_info": {
   "codemirror_mode": {
    "name": "ipython",
    "version": 3
   },
   "file_extension": ".py",
   "mimetype": "text/x-python",
   "name": "python",
   "nbconvert_exporter": "python",
   "pygments_lexer": "ipython3",
   "version": "3.10.11"
  }
 },
 "nbformat": 4,
 "nbformat_minor": 5
}
