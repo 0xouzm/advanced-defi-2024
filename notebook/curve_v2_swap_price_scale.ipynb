{
 "cells": [
  {
   "cell_type": "code",
   "execution_count": null,
   "id": "2f0e6268-3cf3-4f8c-bf01-9e52383ea003",
   "metadata": {},
   "outputs": [],
   "source": [
    "!pip install scipy"
   ]
  },
  {
   "cell_type": "code",
   "execution_count": 9,
   "id": "ba898ead-aacc-45e8-b99c-60d44ea2e6bd",
   "metadata": {},
   "outputs": [
    {
     "name": "stdout",
     "output_type": "stream",
     "text": [
      "--- dx with price scale = [1, 1] ---\n",
      "D 55971.23259730738\n",
      "D/2 27985.61629865369\n",
      "x1 5945653.999865563\n",
      "dx 54346.000134437345\n",
      "--- dx with price scale = [1, 6e4] ---\n",
      "D 12000000.000000028\n",
      "D/2 6000000.000000014\n",
      "x1 5940031.185194929\n",
      "dx 59968.81480507087\n"
     ]
    }
   ],
   "source": [
    "# Simulate swapping with and without price scale\n",
    "# Example setup\n",
    "# swap WBTC to USDC\n",
    "# x = USDC\n",
    "# y = WBTC\n",
    "# market price of WBTC = 60,000\n",
    "\n",
    "from scipy.optimize import fsolve\n",
    "\n",
    "# Functions to solve for x and D\n",
    "def f_curve_v2(x, y, A, D, g, p):\n",
    "    # Transformed balances\n",
    "    x = x * p[0]\n",
    "    y = y * p[1]\n",
    "    # Curve v2\n",
    "    k0 = x*y/(D/2)**2\n",
    "    k = A*k0*(g/(g+1-k0))**2\n",
    "    return x*y + k*D*(x+y) - (D/2)**2 - k*D**2\n",
    "\n",
    "def f_D(D, x, y, A, g, p):\n",
    "    return f_curve_v2(x, y, A, D, g, p)\n",
    "\n",
    "# Compare dx with price scale = [1, 1] and [1, 6e4]\n",
    "A = 10\n",
    "g = 0.002\n",
    "x0 = 6e6\n",
    "y0 = 100\n",
    "y1 = y0 + 1\n",
    "\n",
    "## Calc dx with actual balance\n",
    "print(\"--- dx with price scale = [1, 1] ---\")\n",
    "\n",
    "p = [1, 1]\n",
    "D = fsolve(f_D, x0/2, args=(x0, y0, A, g, p))[0]\n",
    "\n",
    "print(\"D\", D)\n",
    "print(\"D/2\", D / 2)\n",
    "\n",
    "x1 = fsolve(f_curve_v2, (D/2)**2, args=(y1, A, D, g, p))[0]\n",
    "print(\"x1\", x1)\n",
    "print(\"dx\", x0 - x1)\n",
    "\n",
    "## Calc dx with transformed balance\n",
    "print(\"--- dx with price scale = [1, 6e4] ---\")\n",
    "\n",
    "p = [1, 6e4]\n",
    "D = fsolve(f_D, x0/2, args=(x0, y0, A, g, p))[0]\n",
    "\n",
    "print(\"D\", D)\n",
    "print(\"D/2\", D / 2)\n",
    "\n",
    "x1 = fsolve(f_curve_v2, (D/2)**2, args=(y1, A, D, g, p))[0]\n",
    "print(\"x1\", x1)\n",
    "print(\"dx\", x0 - x1)"
   ]
  }
 ],
 "metadata": {
  "kernelspec": {
   "display_name": "Python 3 (ipykernel)",
   "language": "python",
   "name": "python3"
  },
  "language_info": {
   "codemirror_mode": {
    "name": "ipython",
    "version": 3
   },
   "file_extension": ".py",
   "mimetype": "text/x-python",
   "name": "python",
   "nbconvert_exporter": "python",
   "pygments_lexer": "ipython3",
   "version": "3.10.11"
  }
 },
 "nbformat": 4,
 "nbformat_minor": 5
}
