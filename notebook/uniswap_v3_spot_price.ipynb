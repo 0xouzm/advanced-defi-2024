{
 "cells": [
  {
   "cell_type": "code",
   "execution_count": 11,
   "id": "90ebba97-943c-4a12-bc33-0a11e931428c",
   "metadata": {},
   "outputs": [
    {
     "name": "stdout",
     "output_type": "stream",
     "text": [
      "3.5319103213169284e-09\n",
      "3531.9103213169287\n"
     ]
    }
   ],
   "source": [
    "# WETH / USDT pool\n",
    "# 0x4e68Ccd3E89f51C3074ca5072bbAC773960dFa36\n",
    "tick = -194624\n",
    "p = 1.0001 ** tick\n",
    "\n",
    "# p = y / x = price of token x in terms of token y\n",
    "#                           WETH               USDT\n",
    "# 1 WETH = 1e18\n",
    "# 1 USDT = 1e6\n",
    "# y / x = USDT / WETH = 1e6 / 1e18\n",
    "print(p)\n",
    "print(p / 1e6 * 1e18)"
   ]
  },
  {
   "cell_type": "code",
   "execution_count": 15,
   "id": "c7cca3bb-cb51-41dc-89c5-09f476177f79",
   "metadata": {},
   "outputs": [
    {
     "name": "stdout",
     "output_type": "stream",
     "text": [
      "282708536.8770063\n",
      "3.537211896912242e-09\n",
      "3537.211896912242\n"
     ]
    }
   ],
   "source": [
    "# USDC / WETH 0.05% pool\n",
    "# 0x88e6A0c2dDD26FEEb64F039a2c41296FcB3f5640\n",
    "tick = 194609\n",
    "p = 1.0001 ** tick\n",
    "\n",
    "# p = y / x = price of token x in terms of token y\n",
    "#                           USDC               WETH\n",
    "# 1 / p = x / y = price of token y in terms of token x\n",
    "#                               WETH                USDC\n",
    "print(p)\n",
    "print(1 / p)\n",
    "\n",
    "# 1 WETH = 1e18\n",
    "# 1 USDC = 1e6\n",
    "# x / y = USDC / WETH = 1e6 / 1e18\n",
    "print(1 / p / 1e6 * 1e18)"
   ]
  },
  {
   "cell_type": "code",
   "execution_count": null,
   "id": "3345ffba-4f3a-4704-90e1-a33a455623f9",
   "metadata": {},
   "outputs": [],
   "source": []
  }
 ],
 "metadata": {
  "kernelspec": {
   "display_name": "Python 3 (ipykernel)",
   "language": "python",
   "name": "python3"
  },
  "language_info": {
   "codemirror_mode": {
    "name": "ipython",
    "version": 3
   },
   "file_extension": ".py",
   "mimetype": "text/x-python",
   "name": "python",
   "nbconvert_exporter": "python",
   "pygments_lexer": "ipython3",
   "version": "3.12.2"
  }
 },
 "nbformat": 4,
 "nbformat_minor": 5
}
